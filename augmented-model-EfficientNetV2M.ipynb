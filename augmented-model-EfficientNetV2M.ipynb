{
  "cells": [
    {
      "cell_type": "markdown",
      "metadata": {
        "id": "dl72aPKJ7E9k"
      },
      "source": [
        "Import"
      ]
    },
    {
      "cell_type": "code",
      "execution_count": null,
      "metadata": {
        "colab": {
          "base_uri": "https://localhost:8080/"
        },
        "id": "GSGlWJNE7E9p",
        "outputId": "6144d64d-f5db-441f-c8d7-d0f2d0a42cf5"
      },
      "outputs": [
        {
          "output_type": "stream",
          "name": "stdout",
          "text": [
            "2.14.0\n"
          ]
        }
      ],
      "source": [
        "import time\n",
        "seed = int(time.time())\n",
        "\n",
        "import os\n",
        "os.environ['TF_CPP_MIN_LOG_LEVEL'] = '3'\n",
        "os.environ['PYTHONHASHSEED'] = str(seed)\n",
        "os.environ['MPLCONFIGDIR'] = os.getcwd()+'/configs/'\n",
        "\n",
        "import warnings\n",
        "warnings.simplefilter(action='ignore', category=FutureWarning)\n",
        "warnings.simplefilter(action='ignore', category=Warning)\n",
        "\n",
        "import numpy as np\n",
        "np.random.seed(seed)\n",
        "\n",
        "import logging\n",
        "\n",
        "import random\n",
        "random.seed(seed)\n",
        "\n",
        "import tensorflow as tf\n",
        "from tensorflow import keras as tfk\n",
        "from tensorflow.keras import layers as tfkl\n",
        "tf.autograph.set_verbosity(0)\n",
        "tf.get_logger().setLevel(logging.ERROR)\n",
        "tf.compat.v1.logging.set_verbosity(tf.compat.v1.logging.ERROR)\n",
        "tf.random.set_seed(seed)\n",
        "tf.compat.v1.set_random_seed(seed)\n",
        "print(tf.__version__)\n",
        "\n",
        "import matplotlib.pyplot as plt\n",
        "import pandas as pd\n",
        "from sklearn.model_selection import train_test_split\n",
        "from sklearn.metrics import accuracy_score, f1_score, precision_score, recall_score, confusion_matrix\n",
        "import seaborn as sns"
      ]
    },
    {
      "cell_type": "code",
      "execution_count": null,
      "metadata": {
        "colab": {
          "base_uri": "https://localhost:8080/"
        },
        "id": "k0YZYSShwxm4",
        "outputId": "3447b81c-e79d-41f5-e72f-15f3ee711bbf"
      },
      "outputs": [
        {
          "output_type": "stream",
          "name": "stdout",
          "text": [
            "Mounted at /gdrive\n"
          ]
        }
      ],
      "source": [
        "from google.colab import drive\n",
        "drive.mount('/gdrive')\n",
        "os.chdir('/gdrive/My Drive/Colab Notebooks')"
      ]
    },
    {
      "cell_type": "markdown",
      "metadata": {
        "id": "qyQqDVXM7E9s"
      },
      "source": [
        "Data Treatment"
      ]
    },
    {
      "cell_type": "code",
      "execution_count": null,
      "metadata": {
        "colab": {
          "base_uri": "https://localhost:8080/"
        },
        "id": "_rWHmEC07E9t",
        "outputId": "44e12498-fa7b-4467-d216-4c2c24db1a60"
      },
      "outputs": [
        {
          "output_type": "stream",
          "name": "stdout",
          "text": [
            "healthy      3101\n",
            "unhealthy    1903\n",
            "dtype: int64\n"
          ]
        }
      ],
      "source": [
        "leafs_data = np.load(\"new_public_data.npz\", allow_pickle=True)\n",
        "data_leafs = np.array(leafs_data[\"array1\"]).astype(int)\n",
        "labels = np.array(leafs_data['array2'])\n",
        "\n",
        "print((pd.DataFrame(labels)).value_counts())\n",
        "labels = pd.DataFrame(labels)\n",
        "labels.describe()\n",
        "# Turning the classes into a binary coding 00:Unhealthy, 01:Healthy\n",
        "unique = labels.iloc[: , 0].unique()\n",
        "\n",
        "loc = [1,2]\n",
        "for pos in zip(loc , unique):\n",
        "    labels.insert(pos[0] , pos[1] , pos[0] - 1)\n",
        "\n",
        "labels_1 = labels\n",
        "labels_1.loc[labels[0] == 'healthy' , 'healthy'] = 1\n",
        "labels_1.loc[labels[0] == 'healthy', 'unhealthy'] = 0\n",
        "labels = labels_1\n",
        "labels = labels.drop(columns = 0)"
      ]
    },
    {
      "cell_type": "markdown",
      "metadata": {
        "id": "2QAm32gu7E9u"
      },
      "source": [
        "labels_leafs = np.expand_dims(labels_leafs, axis=-1)\n",
        "values_leafs = np.array([])\n",
        "num = 0\n",
        "for i in labels_leafs:\n",
        "  if i == \"healthy\":\n",
        "    values_leafs = np.append(values_leafs, [0])\n",
        "  else:\n",
        "    values_leafs = np.append(values_leafs, [1])\n",
        "values_leafs = np.expand_dims(values_leafs, axis=-1)"
      ]
    },
    {
      "cell_type": "code",
      "execution_count": null,
      "metadata": {
        "id": "ZizsZgpj7E9u"
      },
      "outputs": [],
      "source": [
        "X_train_val, X_test, y_train_val, y_test = train_test_split(\n",
        "    data_leafs,\n",
        "    labels,\n",
        "    test_size = 0.1,\n",
        "    random_state=seed,\n",
        "    stratify= labels\n",
        ")\n",
        "X_train, X_val, y_train, y_val = train_test_split(\n",
        "    X_train_val,\n",
        "    y_train_val,\n",
        "    test_size = len(X_test), # Ensure validation set size matches test set size\n",
        "    random_state=seed,\n",
        "    stratify= y_train_val\n",
        ")"
      ]
    },
    {
      "cell_type": "code",
      "execution_count": null,
      "metadata": {
        "id": "U5sc32Ma7E9v"
      },
      "outputs": [],
      "source": [
        "input_shape = X_train.shape[1:]\n",
        "output_shape = y_train.shape[1]\n",
        "batch_size = 64\n",
        "epochs = 300"
      ]
    },
    {
      "cell_type": "code",
      "execution_count": null,
      "metadata": {
        "colab": {
          "base_uri": "https://localhost:8080/"
        },
        "id": "R2Zs5VrS71WG",
        "outputId": "ac976650-4953-4497-8c13-71a41a3ea3e8"
      },
      "outputs": [
        {
          "output_type": "stream",
          "name": "stdout",
          "text": [
            "Downloading data from https://storage.googleapis.com/tensorflow/keras-applications/efficientnet_v2/efficientnetv2-m_notop.h5\n",
            "214201816/214201816 [==============================] - 6s 0us/step\n",
            "Model: \"V2B3\"\n",
            "_________________________________________________________________\n",
            " Layer (type)                Output Shape              Param #   \n",
            "=================================================================\n",
            " input_2 (InputLayer)        [(None, 96, 96, 3)]       0         \n",
            "                                                                 \n",
            " augmentation (Sequential)   (None, 96, 96, 3)         0         \n",
            "                                                                 \n",
            " efficientnetv2-m (Function  (None, 1280)              53150388  \n",
            " al)                                                             \n",
            "                                                                 \n",
            " dropout (Dropout)           (None, 1280)              0         \n",
            "                                                                 \n",
            " dense1 (Dense)              (None, 16)                20496     \n",
            "                                                                 \n",
            " dropout_1 (Dropout)         (None, 16)                0         \n",
            "                                                                 \n",
            " batch_normalization (Batch  (None, 16)                64        \n",
            " Normalization)                                                  \n",
            "                                                                 \n",
            " dense2 (Dense)              (None, 2)                 34        \n",
            "                                                                 \n",
            "=================================================================\n",
            "Total params: 53170982 (202.83 MB)\n",
            "Trainable params: 20562 (80.32 KB)\n",
            "Non-trainable params: 53150420 (202.75 MB)\n",
            "_________________________________________________________________\n"
          ]
        }
      ],
      "source": [
        "def build_V2M(input_shape, output_shape, dropout_rate, seed=seed):\n",
        "    tf.random.set_seed(seed)\n",
        "\n",
        "    augmentation = tf.keras.Sequential([\n",
        "        tfkl.RandomFlip(\"horizontal\", seed=seed),\n",
        "        tfkl.RandomFlip(\"vertical\", seed=seed),\n",
        "        tfkl.RandomBrightness(0.3, value_range=(0,255), seed=seed),\n",
        "        tfkl.RandomContrast(0.3, seed=seed),\n",
        "        tfkl.RandomZoom((0.2, 0.2), seed=seed),\n",
        "        tfkl.RandomTranslation(0.2, 0.2, seed=seed)\n",
        "    ], name='augmentation')\n",
        "\n",
        "    V2M = tfk.applications.EfficientNetV2M(\n",
        "        input_shape = input_shape,\n",
        "        include_top=False,\n",
        "        weights=\"imagenet\",\n",
        "        pooling='avg',\n",
        "    )\n",
        "    V2M.trainable = False\n",
        "\n",
        "    input_layer = tfk.Input(shape=input_shape)\n",
        "\n",
        "    x = augmentation(input_layer)\n",
        "    x = V2M(x, training=False)\n",
        "\n",
        "    dropout = tfkl.Dropout(\n",
        "        dropout_rate,\n",
        "        seed=seed\n",
        "    )(x)\n",
        "\n",
        "    classifier_layer = tfkl.Dense(\n",
        "        units=16,\n",
        "        activation='relu',\n",
        "        name='dense1'\n",
        "    )(dropout)\n",
        "\n",
        "    dropout = tfkl.Dropout(\n",
        "        dropout_rate,\n",
        "        seed=seed\n",
        "    )(classifier_layer)\n",
        "\n",
        "    BCL = tfkl.BatchNormalization(\n",
        "\n",
        "    )(dropout)\n",
        "\n",
        "    output_layer = tfkl.Dense(\n",
        "        units=output_shape,\n",
        "        activation='sigmoid',\n",
        "        name='dense2'\n",
        "    )(BCL)\n",
        "\n",
        "    model = tfk.Model(inputs=input_layer, outputs=output_layer, name='V2B3')\n",
        "\n",
        "    model.compile(loss=tfk.losses.BinaryCrossentropy(), optimizer=tfk.optimizers.Adam(), metrics=['accuracy'])\n",
        "\n",
        "    return model\n",
        "\n",
        "tl_model = build_V2M(input_shape, output_shape, 0.5)\n",
        "tl_model.summary()"
      ]
    },
    {
      "cell_type": "code",
      "execution_count": null,
      "metadata": {
        "id": "3u7BHKB_7j5-"
      },
      "outputs": [],
      "source": [
        "patience=20\n",
        "early_stopping = tfk.callbacks.EarlyStopping(monitor='val_accuracy', patience=patience, mode='max', restore_best_weights=True)\n",
        "lr_patience = 10\n",
        "lr_scheduler = tfk.callbacks.ReduceLROnPlateau(\n",
        "    monitor='val_accuracy',# Metric to monitor (validation mean squared error in this case)\n",
        "    patience=lr_patience,   # Number of epochs with no improvement after which learning rate will be reduced\n",
        "    factor=0.1,            # Factor by which the learning rate will be reduced (0.999 in this case)\n",
        "    mode='max',            # Mode to decide when to reduce learning rate ('min' means reduce when metric stops decreasing)\n",
        "    min_lr=1e-5            # Minimum learning rate\n",
        ")"
      ]
    },
    {
      "cell_type": "code",
      "execution_count": null,
      "metadata": {
        "colab": {
          "base_uri": "https://localhost:8080/"
        },
        "id": "2ebfl4cQ7j5-",
        "outputId": "584ff78a-810f-41ad-ac36-c4fdd83590e8"
      },
      "outputs": [
        {
          "output_type": "stream",
          "name": "stdout",
          "text": [
            "Epoch 1/300\n",
            "63/63 [==============================] - 38s 162ms/step - loss: 0.7742 - accuracy: 0.5577 - val_loss: 0.6365 - val_accuracy: 0.6387 - lr: 0.0010\n",
            "Epoch 2/300\n",
            "63/63 [==============================] - 5s 74ms/step - loss: 0.6816 - accuracy: 0.6394 - val_loss: 0.6143 - val_accuracy: 0.7106 - lr: 0.0010\n",
            "Epoch 3/300\n",
            "63/63 [==============================] - 4s 68ms/step - loss: 0.6349 - accuracy: 0.6667 - val_loss: 0.6078 - val_accuracy: 0.6826 - lr: 0.0010\n",
            "Epoch 4/300\n",
            "63/63 [==============================] - 5s 73ms/step - loss: 0.6023 - accuracy: 0.6867 - val_loss: 0.5703 - val_accuracy: 0.7405 - lr: 0.0010\n",
            "Epoch 5/300\n",
            "63/63 [==============================] - 4s 67ms/step - loss: 0.5948 - accuracy: 0.6899 - val_loss: 0.5540 - val_accuracy: 0.7385 - lr: 0.0010\n",
            "Epoch 6/300\n",
            "63/63 [==============================] - 5s 72ms/step - loss: 0.5931 - accuracy: 0.6924 - val_loss: 0.5464 - val_accuracy: 0.7505 - lr: 0.0010\n",
            "Epoch 7/300\n",
            "63/63 [==============================] - 4s 68ms/step - loss: 0.5745 - accuracy: 0.6979 - val_loss: 0.5439 - val_accuracy: 0.7505 - lr: 0.0010\n",
            "Epoch 8/300\n",
            "63/63 [==============================] - 5s 73ms/step - loss: 0.5661 - accuracy: 0.7111 - val_loss: 0.5340 - val_accuracy: 0.7605 - lr: 0.0010\n",
            "Epoch 9/300\n",
            "63/63 [==============================] - 4s 67ms/step - loss: 0.5659 - accuracy: 0.7091 - val_loss: 0.5352 - val_accuracy: 0.7485 - lr: 0.0010\n",
            "Epoch 10/300\n",
            "63/63 [==============================] - 4s 67ms/step - loss: 0.5643 - accuracy: 0.7081 - val_loss: 0.5323 - val_accuracy: 0.7605 - lr: 0.0010\n",
            "Epoch 11/300\n",
            "63/63 [==============================] - 4s 67ms/step - loss: 0.5725 - accuracy: 0.7094 - val_loss: 0.5323 - val_accuracy: 0.7505 - lr: 0.0010\n",
            "Epoch 12/300\n",
            "63/63 [==============================] - 5s 72ms/step - loss: 0.5618 - accuracy: 0.7159 - val_loss: 0.5166 - val_accuracy: 0.7725 - lr: 0.0010\n",
            "Epoch 13/300\n",
            "63/63 [==============================] - 4s 68ms/step - loss: 0.5605 - accuracy: 0.7116 - val_loss: 0.5172 - val_accuracy: 0.7705 - lr: 0.0010\n",
            "Epoch 14/300\n",
            "63/63 [==============================] - 5s 73ms/step - loss: 0.5617 - accuracy: 0.7164 - val_loss: 0.5238 - val_accuracy: 0.7844 - lr: 0.0010\n",
            "Epoch 15/300\n",
            "63/63 [==============================] - 4s 71ms/step - loss: 0.5607 - accuracy: 0.7056 - val_loss: 0.5137 - val_accuracy: 0.7964 - lr: 0.0010\n",
            "Epoch 16/300\n",
            "63/63 [==============================] - 4s 67ms/step - loss: 0.5594 - accuracy: 0.7124 - val_loss: 0.5138 - val_accuracy: 0.7665 - lr: 0.0010\n",
            "Epoch 17/300\n",
            "63/63 [==============================] - 4s 68ms/step - loss: 0.5498 - accuracy: 0.7221 - val_loss: 0.5069 - val_accuracy: 0.7725 - lr: 0.0010\n",
            "Epoch 18/300\n",
            "63/63 [==============================] - 4s 68ms/step - loss: 0.5573 - accuracy: 0.7079 - val_loss: 0.5105 - val_accuracy: 0.7944 - lr: 0.0010\n",
            "Epoch 19/300\n",
            "63/63 [==============================] - 4s 69ms/step - loss: 0.5551 - accuracy: 0.7166 - val_loss: 0.5010 - val_accuracy: 0.7964 - lr: 0.0010\n",
            "Epoch 20/300\n",
            "63/63 [==============================] - 4s 68ms/step - loss: 0.5629 - accuracy: 0.7139 - val_loss: 0.5177 - val_accuracy: 0.7505 - lr: 0.0010\n",
            "Epoch 21/300\n",
            "63/63 [==============================] - 4s 66ms/step - loss: 0.5580 - accuracy: 0.7209 - val_loss: 0.4860 - val_accuracy: 0.7964 - lr: 0.0010\n",
            "Epoch 22/300\n",
            "63/63 [==============================] - 4s 66ms/step - loss: 0.5520 - accuracy: 0.7211 - val_loss: 0.5024 - val_accuracy: 0.7784 - lr: 0.0010\n",
            "Epoch 23/300\n",
            "63/63 [==============================] - 4s 69ms/step - loss: 0.5509 - accuracy: 0.7274 - val_loss: 0.4932 - val_accuracy: 0.7864 - lr: 0.0010\n",
            "Epoch 24/300\n",
            "63/63 [==============================] - 4s 68ms/step - loss: 0.5506 - accuracy: 0.7176 - val_loss: 0.4900 - val_accuracy: 0.7964 - lr: 0.0010\n",
            "Epoch 25/300\n",
            "63/63 [==============================] - 4s 67ms/step - loss: 0.5584 - accuracy: 0.7181 - val_loss: 0.4904 - val_accuracy: 0.7964 - lr: 0.0010\n",
            "Epoch 26/300\n",
            "63/63 [==============================] - 4s 68ms/step - loss: 0.5492 - accuracy: 0.7159 - val_loss: 0.4912 - val_accuracy: 0.7864 - lr: 1.0000e-04\n",
            "Epoch 27/300\n",
            "63/63 [==============================] - 4s 67ms/step - loss: 0.5545 - accuracy: 0.7159 - val_loss: 0.4910 - val_accuracy: 0.7944 - lr: 1.0000e-04\n",
            "Epoch 28/300\n",
            "63/63 [==============================] - 4s 67ms/step - loss: 0.5526 - accuracy: 0.7209 - val_loss: 0.4926 - val_accuracy: 0.7884 - lr: 1.0000e-04\n",
            "Epoch 29/300\n",
            "63/63 [==============================] - 4s 69ms/step - loss: 0.5444 - accuracy: 0.7249 - val_loss: 0.4921 - val_accuracy: 0.7924 - lr: 1.0000e-04\n",
            "Epoch 30/300\n",
            "63/63 [==============================] - 4s 69ms/step - loss: 0.5433 - accuracy: 0.7261 - val_loss: 0.4903 - val_accuracy: 0.7944 - lr: 1.0000e-04\n",
            "Epoch 31/300\n",
            "63/63 [==============================] - 4s 68ms/step - loss: 0.5457 - accuracy: 0.7206 - val_loss: 0.4904 - val_accuracy: 0.7944 - lr: 1.0000e-04\n",
            "Epoch 32/300\n",
            "63/63 [==============================] - 4s 67ms/step - loss: 0.5483 - accuracy: 0.7141 - val_loss: 0.4908 - val_accuracy: 0.7944 - lr: 1.0000e-04\n",
            "Epoch 33/300\n",
            "63/63 [==============================] - 4s 68ms/step - loss: 0.5416 - accuracy: 0.7261 - val_loss: 0.4901 - val_accuracy: 0.7924 - lr: 1.0000e-04\n",
            "Epoch 34/300\n",
            "63/63 [==============================] - 4s 68ms/step - loss: 0.5534 - accuracy: 0.7136 - val_loss: 0.4903 - val_accuracy: 0.7844 - lr: 1.0000e-04\n",
            "Epoch 35/300\n",
            "63/63 [==============================] - 5s 76ms/step - loss: 0.5592 - accuracy: 0.7166 - val_loss: 0.4924 - val_accuracy: 0.7864 - lr: 1.0000e-04\n"
          ]
        }
      ],
      "source": [
        "history = tl_model.fit(\n",
        "    x=X_train,\n",
        "    y=y_train,\n",
        "    batch_size=batch_size,\n",
        "    epochs=epochs,\n",
        "    validation_data=(X_val, y_val),\n",
        "    callbacks=[early_stopping, lr_scheduler]\n",
        ").history"
      ]
    },
    {
      "cell_type": "code",
      "execution_count": null,
      "metadata": {
        "colab": {
          "base_uri": "https://localhost:8080/",
          "height": 783
        },
        "id": "RdPHteH97j5-",
        "outputId": "2938a0e2-fdef-4269-ab63-b97a8a60580c"
      },
      "outputs": [
        {
          "output_type": "stream",
          "name": "stdout",
          "text": [
            "Predictions Shape: (501, 2)\n",
            "Accuracy: 0.7565\n",
            "Precision: 0.7465\n",
            "Recall: 0.7248\n",
            "F1: 0.7314\n"
          ]
        },
        {
          "output_type": "display_data",
          "data": {
            "text/plain": [
              "<Figure size 1000x800 with 2 Axes>"
            ],
            "image/png": "[encoded data removed]"
          },
          "metadata": {}
        }
      ],
      "source": [
        "predictions = tl_model.predict(X_test, verbose=0)\n",
        "print(\"Predictions Shape:\", predictions.shape)\n",
        "# Compute the confusion matrix\n",
        "cm = confusion_matrix(np.argmax(y_test.values, axis=1), np.argmax(predictions, axis=1))\n",
        "\n",
        "# Compute classification metrics\n",
        "accuracy = accuracy_score(np.argmax(y_test.values, axis=1), np.argmax(predictions, axis=1))\n",
        "precision = precision_score(np.argmax(y_test.values, axis=1), np.argmax(predictions, axis=1), average='macro')\n",
        "recall = recall_score(np.argmax(y_test.values, axis=1), np.argmax(predictions, axis=1), average='macro')\n",
        "f1 = f1_score(np.argmax(y_test.values, axis=1), np.argmax(predictions, axis=1), average='macro')\n",
        "\n",
        "# Display the computed metrics\n",
        "print('Accuracy:', accuracy.round(4))\n",
        "print('Precision:', precision.round(4))\n",
        "print('Recall:', recall.round(4))\n",
        "print('F1:', f1.round(4))\n",
        "\n",
        "# Plot the confusion matrix\n",
        "plt.figure(figsize=(10, 8))\n",
        "sns.heatmap(cm.T, xticklabels={0, 1}, yticklabels={0, 1}, cmap='Blues')\n",
        "plt.xlabel('True labels')\n",
        "plt.ylabel('Predicted labels')\n",
        "plt.show()"
      ]
    },
    {
      "cell_type": "markdown",
      "metadata": {
        "id": "1QpwXksX7vmK"
      },
      "source": [
        "Fine tuning"
      ]
    },
    {
      "cell_type": "code",
      "execution_count": null,
      "metadata": {
        "id": "6ogW98aN--QH"
      },
      "outputs": [],
      "source": [
        "tl_model.get_layer('efficientnetv2-m').trainable = True"
      ]
    },
    {
      "cell_type": "code",
      "execution_count": null,
      "metadata": {
        "colab": {
          "base_uri": "https://localhost:8080/"
        },
        "id": "NABidJWfBfxX",
        "outputId": "65f21737-909f-4ef9-8101-03105879146c"
      },
      "outputs": [
        {
          "output_type": "stream",
          "name": "stdout",
          "text": [
            "Model: \"V2B3\"\n",
            "_________________________________________________________________\n",
            " Layer (type)                Output Shape              Param #   \n",
            "=================================================================\n",
            " input_2 (InputLayer)        [(None, 96, 96, 3)]       0         \n",
            "                                                                 \n",
            " augmentation (Sequential)   (None, 96, 96, 3)         0         \n",
            "                                                                 \n",
            " efficientnetv2-m (Function  (None, 1280)              53150388  \n",
            " al)                                                             \n",
            "                                                                 \n",
            " dropout (Dropout)           (None, 1280)              0         \n",
            "                                                                 \n",
            " dense1 (Dense)              (None, 16)                20496     \n",
            "                                                                 \n",
            " dropout_1 (Dropout)         (None, 16)                0         \n",
            "                                                                 \n",
            " batch_normalization (Batch  (None, 16)                64        \n",
            " Normalization)                                                  \n",
            "                                                                 \n",
            " dense2 (Dense)              (None, 2)                 34        \n",
            "                                                                 \n",
            "=================================================================\n",
            "Total params: 53170982 (202.83 MB)\n",
            "Trainable params: 52878918 (201.72 MB)\n",
            "Non-trainable params: 292064 (1.11 MB)\n",
            "_________________________________________________________________\n"
          ]
        }
      ],
      "source": [
        "N = 340\n",
        "#for i, layer in enumerate(tl_model.get_layer('efficientnetv2-b3').layers[:N]):\n",
        "#  layer.trainable=False\n",
        "tl_model.summary()\n",
        "tl_model.compile(loss=tfk.losses.BinaryCrossentropy(), optimizer=tfk.optimizers.Adam(1e-6), metrics=['accuracy'])"
      ]
    },
    {
      "cell_type": "code",
      "execution_count": null,
      "metadata": {
        "colab": {
          "base_uri": "https://localhost:8080/"
        },
        "id": "xFhKqxdfCN5x",
        "outputId": "0d23c909-2f89-4cec-eb79-a11c91bc6cda"
      },
      "outputs": [
        {
          "output_type": "stream",
          "name": "stdout",
          "text": [
            "Epoch 1/300\n",
            "63/63 [==============================] - 120s 278ms/step - loss: 0.5444 - accuracy: 0.7291 - val_loss: 0.4982 - val_accuracy: 0.7964 - lr: 1.0000e-06\n",
            "Epoch 2/300\n",
            "63/63 [==============================] - 12s 194ms/step - loss: 0.5286 - accuracy: 0.7369 - val_loss: 0.4901 - val_accuracy: 0.8044 - lr: 1.0000e-06\n",
            "Epoch 3/300\n",
            "63/63 [==============================] - 12s 194ms/step - loss: 0.5301 - accuracy: 0.7414 - val_loss: 0.4798 - val_accuracy: 0.8064 - lr: 1.0000e-06\n",
            "Epoch 4/300\n",
            "63/63 [==============================] - 12s 194ms/step - loss: 0.5332 - accuracy: 0.7334 - val_loss: 0.4706 - val_accuracy: 0.8144 - lr: 1.0000e-06\n",
            "Epoch 5/300\n",
            "63/63 [==============================] - 12s 189ms/step - loss: 0.5091 - accuracy: 0.7471 - val_loss: 0.4666 - val_accuracy: 0.7924 - lr: 1.0000e-06\n",
            "Epoch 6/300\n",
            "63/63 [==============================] - 12s 194ms/step - loss: 0.5020 - accuracy: 0.7536 - val_loss: 0.4650 - val_accuracy: 0.8164 - lr: 1.0000e-06\n",
            "Epoch 7/300\n",
            "63/63 [==============================] - 12s 196ms/step - loss: 0.4985 - accuracy: 0.7656 - val_loss: 0.4538 - val_accuracy: 0.8204 - lr: 1.0000e-06\n",
            "Epoch 8/300\n",
            "63/63 [==============================] - 12s 195ms/step - loss: 0.4899 - accuracy: 0.7646 - val_loss: 0.4455 - val_accuracy: 0.8164 - lr: 1.0000e-06\n",
            "Epoch 9/300\n",
            "63/63 [==============================] - 12s 191ms/step - loss: 0.4900 - accuracy: 0.7649 - val_loss: 0.4507 - val_accuracy: 0.8204 - lr: 1.0000e-06\n",
            "Epoch 10/300\n",
            "63/63 [==============================] - 12s 197ms/step - loss: 0.4879 - accuracy: 0.7739 - val_loss: 0.4435 - val_accuracy: 0.8343 - lr: 1.0000e-06\n",
            "Epoch 11/300\n",
            "63/63 [==============================] - 12s 195ms/step - loss: 0.4812 - accuracy: 0.7736 - val_loss: 0.4386 - val_accuracy: 0.8383 - lr: 1.0000e-06\n",
            "Epoch 12/300\n",
            "63/63 [==============================] - 12s 190ms/step - loss: 0.4700 - accuracy: 0.7861 - val_loss: 0.4338 - val_accuracy: 0.8244 - lr: 1.0000e-06\n",
            "Epoch 13/300\n",
            "63/63 [==============================] - 12s 191ms/step - loss: 0.4711 - accuracy: 0.7901 - val_loss: 0.4322 - val_accuracy: 0.8323 - lr: 1.0000e-06\n",
            "Epoch 14/300\n",
            "63/63 [==============================] - 12s 190ms/step - loss: 0.4619 - accuracy: 0.7919 - val_loss: 0.4244 - val_accuracy: 0.8383 - lr: 1.0000e-06\n",
            "Epoch 15/300\n",
            "63/63 [==============================] - 12s 190ms/step - loss: 0.4614 - accuracy: 0.7991 - val_loss: 0.4209 - val_accuracy: 0.8343 - lr: 1.0000e-06\n",
            "Epoch 16/300\n",
            "63/63 [==============================] - 12s 190ms/step - loss: 0.4606 - accuracy: 0.8033 - val_loss: 0.4248 - val_accuracy: 0.8283 - lr: 1.0000e-06\n",
            "Epoch 17/300\n",
            "63/63 [==============================] - 12s 191ms/step - loss: 0.4592 - accuracy: 0.7989 - val_loss: 0.4162 - val_accuracy: 0.8323 - lr: 1.0000e-06\n",
            "Epoch 18/300\n",
            "63/63 [==============================] - 12s 191ms/step - loss: 0.4510 - accuracy: 0.8026 - val_loss: 0.4136 - val_accuracy: 0.8363 - lr: 1.0000e-06\n",
            "Epoch 19/300\n",
            "63/63 [==============================] - 12s 190ms/step - loss: 0.4473 - accuracy: 0.8088 - val_loss: 0.4087 - val_accuracy: 0.8343 - lr: 1.0000e-06\n",
            "Epoch 20/300\n",
            "63/63 [==============================] - 12s 190ms/step - loss: 0.4544 - accuracy: 0.7986 - val_loss: 0.4097 - val_accuracy: 0.8343 - lr: 1.0000e-06\n",
            "Epoch 21/300\n",
            "63/63 [==============================] - 12s 189ms/step - loss: 0.4481 - accuracy: 0.8086 - val_loss: 0.4104 - val_accuracy: 0.8343 - lr: 1.0000e-06\n",
            "Epoch 22/300\n",
            "63/63 [==============================] - 12s 190ms/step - loss: 0.4320 - accuracy: 0.8218 - val_loss: 0.4029 - val_accuracy: 0.8363 - lr: 1.0000e-06\n",
            "Epoch 23/300\n",
            "63/63 [==============================] - 12s 195ms/step - loss: 0.4401 - accuracy: 0.8128 - val_loss: 0.4019 - val_accuracy: 0.8403 - lr: 1.0000e-06\n",
            "Epoch 24/300\n",
            "63/63 [==============================] - 12s 189ms/step - loss: 0.4364 - accuracy: 0.8216 - val_loss: 0.4002 - val_accuracy: 0.8383 - lr: 1.0000e-06\n",
            "Epoch 25/300\n",
            "63/63 [==============================] - 12s 195ms/step - loss: 0.4393 - accuracy: 0.8191 - val_loss: 0.3980 - val_accuracy: 0.8463 - lr: 1.0000e-06\n",
            "Epoch 26/300\n",
            "63/63 [==============================] - 12s 190ms/step - loss: 0.4330 - accuracy: 0.8156 - val_loss: 0.3971 - val_accuracy: 0.8463 - lr: 1.0000e-06\n",
            "Epoch 27/300\n",
            "63/63 [==============================] - 12s 191ms/step - loss: 0.4319 - accuracy: 0.8226 - val_loss: 0.3942 - val_accuracy: 0.8463 - lr: 1.0000e-06\n",
            "Epoch 28/300\n",
            "63/63 [==============================] - 12s 195ms/step - loss: 0.4267 - accuracy: 0.8291 - val_loss: 0.3924 - val_accuracy: 0.8543 - lr: 1.0000e-06\n",
            "Epoch 29/300\n",
            "63/63 [==============================] - 12s 190ms/step - loss: 0.4268 - accuracy: 0.8271 - val_loss: 0.3905 - val_accuracy: 0.8523 - lr: 1.0000e-06\n",
            "Epoch 30/300\n",
            "63/63 [==============================] - 12s 191ms/step - loss: 0.4154 - accuracy: 0.8373 - val_loss: 0.3866 - val_accuracy: 0.8463 - lr: 1.0000e-06\n",
            "Epoch 31/300\n",
            "63/63 [==============================] - 12s 192ms/step - loss: 0.4153 - accuracy: 0.8336 - val_loss: 0.3839 - val_accuracy: 0.8483 - lr: 1.0000e-06\n",
            "Epoch 32/300\n",
            "63/63 [==============================] - 12s 191ms/step - loss: 0.4141 - accuracy: 0.8351 - val_loss: 0.3849 - val_accuracy: 0.8503 - lr: 1.0000e-06\n",
            "Epoch 33/300\n",
            "63/63 [==============================] - 12s 191ms/step - loss: 0.4142 - accuracy: 0.8303 - val_loss: 0.3832 - val_accuracy: 0.8503 - lr: 1.0000e-06\n",
            "Epoch 34/300\n",
            "63/63 [==============================] - 12s 195ms/step - loss: 0.4118 - accuracy: 0.8366 - val_loss: 0.3797 - val_accuracy: 0.8623 - lr: 1.0000e-06\n",
            "Epoch 35/300\n",
            "63/63 [==============================] - 12s 191ms/step - loss: 0.4045 - accuracy: 0.8421 - val_loss: 0.3777 - val_accuracy: 0.8503 - lr: 1.0000e-06\n",
            "Epoch 36/300\n",
            "63/63 [==============================] - 12s 191ms/step - loss: 0.4093 - accuracy: 0.8411 - val_loss: 0.3775 - val_accuracy: 0.8583 - lr: 1.0000e-06\n",
            "Epoch 37/300\n",
            "63/63 [==============================] - 12s 190ms/step - loss: 0.3953 - accuracy: 0.8553 - val_loss: 0.3755 - val_accuracy: 0.8623 - lr: 1.0000e-06\n",
            "Epoch 38/300\n",
            "63/63 [==============================] - 12s 191ms/step - loss: 0.4074 - accuracy: 0.8438 - val_loss: 0.3762 - val_accuracy: 0.8583 - lr: 1.0000e-06\n",
            "Epoch 39/300\n",
            "63/63 [==============================] - 12s 191ms/step - loss: 0.3977 - accuracy: 0.8491 - val_loss: 0.3721 - val_accuracy: 0.8623 - lr: 1.0000e-06\n",
            "Epoch 40/300\n",
            "63/63 [==============================] - 12s 190ms/step - loss: 0.3894 - accuracy: 0.8518 - val_loss: 0.3700 - val_accuracy: 0.8603 - lr: 1.0000e-06\n",
            "Epoch 41/300\n",
            "63/63 [==============================] - 12s 190ms/step - loss: 0.3906 - accuracy: 0.8468 - val_loss: 0.3676 - val_accuracy: 0.8603 - lr: 1.0000e-06\n",
            "Epoch 42/300\n",
            "63/63 [==============================] - 12s 191ms/step - loss: 0.3936 - accuracy: 0.8536 - val_loss: 0.3641 - val_accuracy: 0.8603 - lr: 1.0000e-06\n",
            "Epoch 43/300\n",
            "63/63 [==============================] - 12s 195ms/step - loss: 0.3897 - accuracy: 0.8538 - val_loss: 0.3688 - val_accuracy: 0.8643 - lr: 1.0000e-06\n",
            "Epoch 44/300\n",
            "63/63 [==============================] - 12s 190ms/step - loss: 0.3868 - accuracy: 0.8583 - val_loss: 0.3640 - val_accuracy: 0.8603 - lr: 1.0000e-06\n",
            "Epoch 45/300\n",
            "63/63 [==============================] - 12s 196ms/step - loss: 0.3841 - accuracy: 0.8531 - val_loss: 0.3592 - val_accuracy: 0.8663 - lr: 1.0000e-06\n",
            "Epoch 46/300\n",
            "63/63 [==============================] - 12s 190ms/step - loss: 0.3865 - accuracy: 0.8531 - val_loss: 0.3629 - val_accuracy: 0.8643 - lr: 1.0000e-06\n",
            "Epoch 47/300\n",
            "63/63 [==============================] - 12s 196ms/step - loss: 0.3805 - accuracy: 0.8631 - val_loss: 0.3591 - val_accuracy: 0.8703 - lr: 1.0000e-06\n",
            "Epoch 48/300\n",
            "63/63 [==============================] - 12s 191ms/step - loss: 0.3786 - accuracy: 0.8608 - val_loss: 0.3565 - val_accuracy: 0.8683 - lr: 1.0000e-06\n",
            "Epoch 49/300\n",
            "63/63 [==============================] - 12s 195ms/step - loss: 0.3779 - accuracy: 0.8668 - val_loss: 0.3516 - val_accuracy: 0.8723 - lr: 1.0000e-06\n",
            "Epoch 50/300\n",
            "63/63 [==============================] - 12s 190ms/step - loss: 0.3716 - accuracy: 0.8671 - val_loss: 0.3562 - val_accuracy: 0.8643 - lr: 1.0000e-06\n",
            "Epoch 51/300\n",
            "63/63 [==============================] - 12s 190ms/step - loss: 0.3762 - accuracy: 0.8623 - val_loss: 0.3538 - val_accuracy: 0.8663 - lr: 1.0000e-06\n",
            "Epoch 52/300\n",
            "63/63 [==============================] - 12s 192ms/step - loss: 0.3681 - accuracy: 0.8663 - val_loss: 0.3518 - val_accuracy: 0.8663 - lr: 1.0000e-06\n",
            "Epoch 53/300\n",
            "63/63 [==============================] - 12s 192ms/step - loss: 0.3724 - accuracy: 0.8623 - val_loss: 0.3552 - val_accuracy: 0.8603 - lr: 1.0000e-06\n",
            "Epoch 54/300\n",
            "63/63 [==============================] - 12s 192ms/step - loss: 0.3701 - accuracy: 0.8686 - val_loss: 0.3516 - val_accuracy: 0.8703 - lr: 1.0000e-06\n",
            "Epoch 55/300\n",
            "63/63 [==============================] - 12s 196ms/step - loss: 0.3711 - accuracy: 0.8731 - val_loss: 0.3547 - val_accuracy: 0.8762 - lr: 1.0000e-06\n",
            "Epoch 56/300\n",
            "63/63 [==============================] - 12s 192ms/step - loss: 0.3641 - accuracy: 0.8688 - val_loss: 0.3528 - val_accuracy: 0.8623 - lr: 1.0000e-06\n",
            "Epoch 57/300\n",
            "63/63 [==============================] - 12s 193ms/step - loss: 0.3627 - accuracy: 0.8753 - val_loss: 0.3489 - val_accuracy: 0.8762 - lr: 1.0000e-06\n",
            "Epoch 58/300\n",
            "63/63 [==============================] - 12s 193ms/step - loss: 0.3625 - accuracy: 0.8723 - val_loss: 0.3541 - val_accuracy: 0.8762 - lr: 1.0000e-06\n",
            "Epoch 59/300\n",
            "63/63 [==============================] - 12s 192ms/step - loss: 0.3629 - accuracy: 0.8753 - val_loss: 0.3523 - val_accuracy: 0.8703 - lr: 1.0000e-06\n",
            "Epoch 60/300\n",
            "63/63 [==============================] - 12s 196ms/step - loss: 0.3620 - accuracy: 0.8786 - val_loss: 0.3472 - val_accuracy: 0.8782 - lr: 1.0000e-06\n",
            "Epoch 61/300\n",
            "63/63 [==============================] - 12s 191ms/step - loss: 0.3582 - accuracy: 0.8761 - val_loss: 0.3455 - val_accuracy: 0.8743 - lr: 1.0000e-06\n",
            "Epoch 62/300\n",
            "63/63 [==============================] - 12s 191ms/step - loss: 0.3501 - accuracy: 0.8818 - val_loss: 0.3451 - val_accuracy: 0.8782 - lr: 1.0000e-06\n",
            "Epoch 63/300\n",
            "63/63 [==============================] - 12s 191ms/step - loss: 0.3523 - accuracy: 0.8808 - val_loss: 0.3463 - val_accuracy: 0.8683 - lr: 1.0000e-06\n",
            "Epoch 64/300\n",
            "63/63 [==============================] - 12s 191ms/step - loss: 0.3570 - accuracy: 0.8763 - val_loss: 0.3488 - val_accuracy: 0.8703 - lr: 1.0000e-06\n",
            "Epoch 65/300\n",
            "63/63 [==============================] - 12s 191ms/step - loss: 0.3489 - accuracy: 0.8813 - val_loss: 0.3440 - val_accuracy: 0.8782 - lr: 1.0000e-06\n",
            "Epoch 66/300\n",
            "63/63 [==============================] - 12s 196ms/step - loss: 0.3488 - accuracy: 0.8913 - val_loss: 0.3457 - val_accuracy: 0.8802 - lr: 1.0000e-06\n",
            "Epoch 67/300\n",
            "63/63 [==============================] - 12s 196ms/step - loss: 0.3479 - accuracy: 0.8846 - val_loss: 0.3417 - val_accuracy: 0.8842 - lr: 1.0000e-06\n",
            "Epoch 68/300\n",
            "63/63 [==============================] - 12s 190ms/step - loss: 0.3410 - accuracy: 0.8908 - val_loss: 0.3460 - val_accuracy: 0.8782 - lr: 1.0000e-06\n",
            "Epoch 69/300\n",
            "63/63 [==============================] - 12s 190ms/step - loss: 0.3451 - accuracy: 0.8913 - val_loss: 0.3446 - val_accuracy: 0.8822 - lr: 1.0000e-06\n",
            "Epoch 70/300\n",
            "63/63 [==============================] - 12s 190ms/step - loss: 0.3407 - accuracy: 0.8938 - val_loss: 0.3475 - val_accuracy: 0.8723 - lr: 1.0000e-06\n",
            "Epoch 71/300\n",
            "63/63 [==============================] - 12s 190ms/step - loss: 0.3433 - accuracy: 0.8863 - val_loss: 0.3414 - val_accuracy: 0.8842 - lr: 1.0000e-06\n",
            "Epoch 72/300\n",
            "63/63 [==============================] - 12s 190ms/step - loss: 0.3404 - accuracy: 0.8926 - val_loss: 0.3460 - val_accuracy: 0.8762 - lr: 1.0000e-06\n",
            "Epoch 73/300\n",
            "63/63 [==============================] - 12s 195ms/step - loss: 0.3422 - accuracy: 0.8881 - val_loss: 0.3351 - val_accuracy: 0.8882 - lr: 1.0000e-06\n",
            "Epoch 74/300\n",
            "63/63 [==============================] - 12s 190ms/step - loss: 0.3355 - accuracy: 0.8921 - val_loss: 0.3422 - val_accuracy: 0.8822 - lr: 1.0000e-06\n",
            "Epoch 75/300\n",
            "63/63 [==============================] - 12s 195ms/step - loss: 0.3420 - accuracy: 0.8911 - val_loss: 0.3321 - val_accuracy: 0.8982 - lr: 1.0000e-06\n",
            "Epoch 76/300\n",
            "63/63 [==============================] - 12s 190ms/step - loss: 0.3406 - accuracy: 0.8891 - val_loss: 0.3320 - val_accuracy: 0.8922 - lr: 1.0000e-06\n",
            "Epoch 77/300\n",
            "63/63 [==============================] - 12s 190ms/step - loss: 0.3342 - accuracy: 0.8951 - val_loss: 0.3398 - val_accuracy: 0.8802 - lr: 1.0000e-06\n",
            "Epoch 78/300\n",
            "63/63 [==============================] - 12s 190ms/step - loss: 0.3330 - accuracy: 0.8953 - val_loss: 0.3363 - val_accuracy: 0.8902 - lr: 1.0000e-06\n",
            "Epoch 79/300\n",
            "63/63 [==============================] - 12s 190ms/step - loss: 0.3284 - accuracy: 0.9018 - val_loss: 0.3389 - val_accuracy: 0.8822 - lr: 1.0000e-06\n",
            "Epoch 80/300\n",
            "63/63 [==============================] - 12s 190ms/step - loss: 0.3312 - accuracy: 0.9000 - val_loss: 0.3404 - val_accuracy: 0.8822 - lr: 1.0000e-06\n",
            "Epoch 81/300\n",
            "63/63 [==============================] - 12s 190ms/step - loss: 0.3355 - accuracy: 0.8968 - val_loss: 0.3394 - val_accuracy: 0.8822 - lr: 1.0000e-06\n",
            "Epoch 82/300\n",
            "63/63 [==============================] - 12s 190ms/step - loss: 0.3318 - accuracy: 0.9038 - val_loss: 0.3321 - val_accuracy: 0.8882 - lr: 1.0000e-06\n",
            "Epoch 83/300\n",
            "63/63 [==============================] - 12s 191ms/step - loss: 0.3274 - accuracy: 0.8981 - val_loss: 0.3293 - val_accuracy: 0.8962 - lr: 1.0000e-06\n",
            "Epoch 84/300\n",
            "63/63 [==============================] - 12s 190ms/step - loss: 0.3240 - accuracy: 0.9045 - val_loss: 0.3298 - val_accuracy: 0.8842 - lr: 1.0000e-06\n",
            "Epoch 85/300\n",
            "63/63 [==============================] - 12s 190ms/step - loss: 0.3256 - accuracy: 0.9013 - val_loss: 0.3341 - val_accuracy: 0.8902 - lr: 1.0000e-06\n",
            "Epoch 86/300\n",
            "63/63 [==============================] - 12s 190ms/step - loss: 0.3225 - accuracy: 0.9010 - val_loss: 0.3365 - val_accuracy: 0.8782 - lr: 1.0000e-06\n",
            "Epoch 87/300\n",
            "63/63 [==============================] - 12s 191ms/step - loss: 0.3186 - accuracy: 0.9065 - val_loss: 0.3330 - val_accuracy: 0.8842 - lr: 1.0000e-06\n",
            "Epoch 88/300\n",
            "63/63 [==============================] - 12s 191ms/step - loss: 0.3206 - accuracy: 0.9075 - val_loss: 0.3325 - val_accuracy: 0.8862 - lr: 1.0000e-06\n",
            "Epoch 89/300\n",
            "63/63 [==============================] - 12s 190ms/step - loss: 0.3274 - accuracy: 0.8976 - val_loss: 0.3268 - val_accuracy: 0.8842 - lr: 1.0000e-06\n",
            "Epoch 90/300\n",
            "63/63 [==============================] - 12s 191ms/step - loss: 0.3218 - accuracy: 0.8998 - val_loss: 0.3267 - val_accuracy: 0.8922 - lr: 1.0000e-06\n",
            "Epoch 91/300\n",
            "63/63 [==============================] - 12s 191ms/step - loss: 0.3194 - accuracy: 0.9083 - val_loss: 0.3252 - val_accuracy: 0.8882 - lr: 1.0000e-06\n",
            "Epoch 92/300\n",
            "63/63 [==============================] - 12s 190ms/step - loss: 0.3160 - accuracy: 0.9120 - val_loss: 0.3311 - val_accuracy: 0.8902 - lr: 1.0000e-06\n",
            "Epoch 93/300\n",
            "63/63 [==============================] - 12s 190ms/step - loss: 0.3151 - accuracy: 0.9125 - val_loss: 0.3316 - val_accuracy: 0.8922 - lr: 1.0000e-06\n",
            "Epoch 94/300\n",
            "63/63 [==============================] - 12s 191ms/step - loss: 0.3131 - accuracy: 0.9155 - val_loss: 0.3256 - val_accuracy: 0.8922 - lr: 1.0000e-06\n",
            "Epoch 95/300\n",
            "63/63 [==============================] - 12s 195ms/step - loss: 0.3200 - accuracy: 0.9073 - val_loss: 0.3197 - val_accuracy: 0.9102 - lr: 1.0000e-06\n",
            "Epoch 96/300\n",
            "63/63 [==============================] - 12s 191ms/step - loss: 0.3167 - accuracy: 0.9093 - val_loss: 0.3266 - val_accuracy: 0.8922 - lr: 1.0000e-06\n",
            "Epoch 97/300\n",
            "63/63 [==============================] - 12s 190ms/step - loss: 0.3104 - accuracy: 0.9108 - val_loss: 0.3202 - val_accuracy: 0.9062 - lr: 1.0000e-06\n",
            "Epoch 98/300\n",
            "63/63 [==============================] - 12s 191ms/step - loss: 0.3155 - accuracy: 0.9090 - val_loss: 0.3294 - val_accuracy: 0.8962 - lr: 1.0000e-06\n",
            "Epoch 99/300\n",
            "63/63 [==============================] - 12s 190ms/step - loss: 0.3101 - accuracy: 0.9208 - val_loss: 0.3232 - val_accuracy: 0.8962 - lr: 1.0000e-06\n",
            "Epoch 100/300\n",
            "63/63 [==============================] - 12s 190ms/step - loss: 0.3052 - accuracy: 0.9173 - val_loss: 0.3195 - val_accuracy: 0.8942 - lr: 1.0000e-06\n",
            "Epoch 101/300\n",
            "63/63 [==============================] - 12s 190ms/step - loss: 0.3127 - accuracy: 0.9100 - val_loss: 0.3195 - val_accuracy: 0.9002 - lr: 1.0000e-06\n",
            "Epoch 102/300\n",
            "63/63 [==============================] - 12s 190ms/step - loss: 0.3048 - accuracy: 0.9180 - val_loss: 0.3261 - val_accuracy: 0.8902 - lr: 1.0000e-06\n",
            "Epoch 103/300\n",
            "63/63 [==============================] - 12s 190ms/step - loss: 0.3127 - accuracy: 0.9150 - val_loss: 0.3138 - val_accuracy: 0.9042 - lr: 1.0000e-06\n",
            "Epoch 104/300\n",
            "63/63 [==============================] - 12s 191ms/step - loss: 0.3053 - accuracy: 0.9195 - val_loss: 0.3262 - val_accuracy: 0.8882 - lr: 1.0000e-06\n",
            "Epoch 105/300\n",
            "63/63 [==============================] - 12s 195ms/step - loss: 0.3075 - accuracy: 0.9140 - val_loss: 0.3109 - val_accuracy: 0.9122 - lr: 1.0000e-06\n",
            "Epoch 106/300\n",
            "63/63 [==============================] - 12s 190ms/step - loss: 0.3032 - accuracy: 0.9193 - val_loss: 0.3221 - val_accuracy: 0.9062 - lr: 1.0000e-06\n",
            "Epoch 107/300\n",
            "63/63 [==============================] - 12s 191ms/step - loss: 0.2967 - accuracy: 0.9225 - val_loss: 0.3146 - val_accuracy: 0.9082 - lr: 1.0000e-06\n",
            "Epoch 108/300\n",
            "63/63 [==============================] - 12s 190ms/step - loss: 0.3071 - accuracy: 0.9138 - val_loss: 0.3153 - val_accuracy: 0.9102 - lr: 1.0000e-06\n",
            "Epoch 109/300\n",
            "63/63 [==============================] - 12s 190ms/step - loss: 0.3122 - accuracy: 0.9118 - val_loss: 0.3187 - val_accuracy: 0.9022 - lr: 1.0000e-06\n",
            "Epoch 110/300\n",
            "63/63 [==============================] - 12s 191ms/step - loss: 0.3026 - accuracy: 0.9198 - val_loss: 0.3165 - val_accuracy: 0.9062 - lr: 1.0000e-06\n",
            "Epoch 111/300\n",
            "63/63 [==============================] - 12s 190ms/step - loss: 0.2996 - accuracy: 0.9243 - val_loss: 0.3192 - val_accuracy: 0.8962 - lr: 1.0000e-06\n",
            "Epoch 112/300\n",
            "63/63 [==============================] - 12s 191ms/step - loss: 0.3002 - accuracy: 0.9238 - val_loss: 0.3248 - val_accuracy: 0.8962 - lr: 1.0000e-06\n",
            "Epoch 113/300\n",
            "63/63 [==============================] - 12s 191ms/step - loss: 0.2996 - accuracy: 0.9218 - val_loss: 0.3215 - val_accuracy: 0.9002 - lr: 1.0000e-06\n",
            "Epoch 114/300\n",
            "63/63 [==============================] - 12s 190ms/step - loss: 0.2932 - accuracy: 0.9275 - val_loss: 0.3214 - val_accuracy: 0.8962 - lr: 1.0000e-06\n",
            "Epoch 115/300\n",
            "63/63 [==============================] - 12s 190ms/step - loss: 0.2924 - accuracy: 0.9275 - val_loss: 0.3153 - val_accuracy: 0.9082 - lr: 1.0000e-06\n",
            "Epoch 116/300\n",
            "63/63 [==============================] - 12s 190ms/step - loss: 0.2961 - accuracy: 0.9230 - val_loss: 0.3145 - val_accuracy: 0.9002 - lr: 1.0000e-06\n",
            "Epoch 117/300\n",
            "63/63 [==============================] - 12s 191ms/step - loss: 0.2901 - accuracy: 0.9283 - val_loss: 0.3122 - val_accuracy: 0.9042 - lr: 1.0000e-06\n",
            "Epoch 118/300\n",
            "63/63 [==============================] - 12s 189ms/step - loss: 0.2992 - accuracy: 0.9210 - val_loss: 0.3206 - val_accuracy: 0.8922 - lr: 1.0000e-06\n",
            "Epoch 119/300\n",
            "63/63 [==============================] - 12s 190ms/step - loss: 0.2991 - accuracy: 0.9240 - val_loss: 0.3141 - val_accuracy: 0.8962 - lr: 1.0000e-06\n",
            "Epoch 120/300\n",
            "63/63 [==============================] - 12s 190ms/step - loss: 0.2910 - accuracy: 0.9270 - val_loss: 0.3216 - val_accuracy: 0.9002 - lr: 1.0000e-06\n",
            "Epoch 121/300\n",
            "63/63 [==============================] - 12s 190ms/step - loss: 0.2891 - accuracy: 0.9325 - val_loss: 0.3146 - val_accuracy: 0.8982 - lr: 1.0000e-06\n",
            "Epoch 122/300\n",
            "63/63 [==============================] - 12s 190ms/step - loss: 0.2901 - accuracy: 0.9298 - val_loss: 0.3211 - val_accuracy: 0.8922 - lr: 1.0000e-06\n",
            "Epoch 123/300\n",
            "63/63 [==============================] - 12s 190ms/step - loss: 0.2909 - accuracy: 0.9340 - val_loss: 0.3063 - val_accuracy: 0.9102 - lr: 1.0000e-06\n",
            "Epoch 124/300\n",
            "63/63 [==============================] - 12s 190ms/step - loss: 0.2966 - accuracy: 0.9270 - val_loss: 0.3142 - val_accuracy: 0.8982 - lr: 1.0000e-06\n",
            "Epoch 125/300\n",
            "63/63 [==============================] - 12s 197ms/step - loss: 0.2934 - accuracy: 0.9275 - val_loss: 0.3134 - val_accuracy: 0.8982 - lr: 1.0000e-06\n"
          ]
        }
      ],
      "source": [
        "history = tl_model.fit(\n",
        "    x=X_train,\n",
        "    y=y_train,\n",
        "    batch_size=batch_size,\n",
        "    epochs=epochs,\n",
        "    validation_data=(X_val, y_val),\n",
        "    callbacks=[early_stopping, lr_scheduler]\n",
        ").history"
      ]
    },
    {
      "cell_type": "code",
      "execution_count": null,
      "metadata": {
        "id": "2-RDQJetwVwC",
        "colab": {
          "base_uri": "https://localhost:8080/",
          "height": 141
        },
        "outputId": "417afac7-5b3b-4c63-b8e7-96f272fc85bc"
      },
      "outputs": [
        {
          "output_type": "stream",
          "name": "stdout",
          "text": [
            "Predictions Shape: (501, 2)\n",
            "Accuracy: 0.9002\n",
            "Precision: 0.9057\n",
            "Recall: 0.8822\n",
            "F1: 0.8913\n"
          ]
        },
        {
          "output_type": "display_data",
          "data": {
            "text/plain": [
              "<Figure size 1000x800 with 2 Axes>"
            ],
            "image/png": "[encoded data removed]"
          },
          "metadata": {}
        }
      ],
      "source": [
        "predictions = tl_model.predict(X_test, verbose=0)\n",
        "print(\"Predictions Shape:\", predictions.shape)\n",
        "# Compute the confusion matrix\n",
        "cm = confusion_matrix(np.argmax(y_test.values, axis=1), np.argmax(predictions, axis=1))\n",
        "\n",
        "# Compute classification metrics\n",
        "accuracy = accuracy_score(np.argmax(y_test.values, axis=1), np.argmax(predictions, axis=1))\n",
        "precision = precision_score(np.argmax(y_test.values, axis=1), np.argmax(predictions, axis=1), average='macro')\n",
        "recall = recall_score(np.argmax(y_test.values, axis=1), np.argmax(predictions, axis=1), average='macro')\n",
        "f1 = f1_score(np.argmax(y_test.values, axis=1), np.argmax(predictions, axis=1), average='macro')\n",
        "\n",
        "# Display the computed metrics\n",
        "print('Accuracy:', accuracy.round(4))\n",
        "print('Precision:', precision.round(4))\n",
        "print('Recall:', recall.round(4))\n",
        "print('F1:', f1.round(4))\n",
        "\n",
        "# Plot the confusion matrix\n",
        "plt.figure(figsize=(10, 8))\n",
        "sns.heatmap(cm.T, xticklabels={0, 1}, yticklabels={0, 1}, cmap='Blues')\n",
        "plt.xlabel('True labels')\n",
        "plt.ylabel('Predicted labels')\n",
        "plt.show()"
      ]
    },
    {
      "cell_type": "code",
      "execution_count": null,
      "metadata": {
        "id": "iIuGq0zq7E94"
      },
      "outputs": [],
      "source": [
        "tl_model.save('V2M_1.h5')"
      ]
    }
  ],
  "metadata": {
    "accelerator": "GPU",
    "colab": {
      "gpuType": "V100",
      "provenance": [],
      "machine_shape": "hm"
    },
    "kernelspec": {
      "display_name": "Python 3",
      "name": "python3"
    },
    "language_info": {
      "codemirror_mode": {
        "name": "ipython",
        "version": 3
      },
      "file_extension": ".py",
      "mimetype": "text/x-python",
      "name": "python",
      "nbconvert_exporter": "python",
      "pygments_lexer": "ipython3",
      "version": "3.10.4"
    }
  },
  "nbformat": 4,
  "nbformat_minor": 0
}